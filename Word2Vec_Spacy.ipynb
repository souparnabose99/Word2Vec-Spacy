{
  "nbformat": 4,
  "nbformat_minor": 0,
  "metadata": {
    "colab": {
      "name": "Word2Vec-Spacy.ipynb",
      "provenance": [],
      "collapsed_sections": [],
      "authorship_tag": "ABX9TyPtDSrLIex+mUHo0FRxqCJj",
      "include_colab_link": true
    },
    "kernelspec": {
      "name": "python3",
      "display_name": "Python 3"
    },
    "language_info": {
      "name": "python"
    }
  },
  "cells": [
    {
      "cell_type": "markdown",
      "metadata": {
        "id": "view-in-github",
        "colab_type": "text"
      },
      "source": [
        "<a href=\"https://colab.research.google.com/github/souparnabose99/Word2Vec-Spacy/blob/main/Word2Vec_Spacy.ipynb\" target=\"_parent\"><img src=\"https://colab.research.google.com/assets/colab-badge.svg\" alt=\"Open In Colab\"/></a>"
      ]
    },
    {
      "cell_type": "markdown",
      "metadata": {
        "id": "8DNUYKbjuvfL"
      },
      "source": [
        "### Install Spacy:"
      ]
    },
    {
      "cell_type": "code",
      "metadata": {
        "colab": {
          "base_uri": "https://localhost:8080/"
        },
        "id": "uLYxQqnHuoku",
        "outputId": "74e221f6-8ea3-4ae2-c3dd-d67376fc244d"
      },
      "source": [
        "!python -m spacy download en_core_web_lg\n",
        "# Small model do not have word2vec inbuilt, it is present in spacy large"
      ],
      "execution_count": 5,
      "outputs": [
        {
          "output_type": "stream",
          "text": [
            "Collecting en_core_web_lg==2.2.5\n",
            "\u001b[?25l  Downloading https://github.com/explosion/spacy-models/releases/download/en_core_web_lg-2.2.5/en_core_web_lg-2.2.5.tar.gz (827.9MB)\n",
            "\u001b[K     |████████████████████████████████| 827.9MB 1.3MB/s \n",
            "\u001b[?25hRequirement already satisfied: spacy>=2.2.2 in /usr/local/lib/python3.7/dist-packages (from en_core_web_lg==2.2.5) (2.2.4)\n",
            "Requirement already satisfied: wasabi<1.1.0,>=0.4.0 in /usr/local/lib/python3.7/dist-packages (from spacy>=2.2.2->en_core_web_lg==2.2.5) (0.8.2)\n",
            "Requirement already satisfied: thinc==7.4.0 in /usr/local/lib/python3.7/dist-packages (from spacy>=2.2.2->en_core_web_lg==2.2.5) (7.4.0)\n",
            "Requirement already satisfied: setuptools in /usr/local/lib/python3.7/dist-packages (from spacy>=2.2.2->en_core_web_lg==2.2.5) (57.0.0)\n",
            "Requirement already satisfied: plac<1.2.0,>=0.9.6 in /usr/local/lib/python3.7/dist-packages (from spacy>=2.2.2->en_core_web_lg==2.2.5) (1.1.3)\n",
            "Requirement already satisfied: blis<0.5.0,>=0.4.0 in /usr/local/lib/python3.7/dist-packages (from spacy>=2.2.2->en_core_web_lg==2.2.5) (0.4.1)\n",
            "Requirement already satisfied: murmurhash<1.1.0,>=0.28.0 in /usr/local/lib/python3.7/dist-packages (from spacy>=2.2.2->en_core_web_lg==2.2.5) (1.0.5)\n",
            "Requirement already satisfied: cymem<2.1.0,>=2.0.2 in /usr/local/lib/python3.7/dist-packages (from spacy>=2.2.2->en_core_web_lg==2.2.5) (2.0.5)\n",
            "Requirement already satisfied: preshed<3.1.0,>=3.0.2 in /usr/local/lib/python3.7/dist-packages (from spacy>=2.2.2->en_core_web_lg==2.2.5) (3.0.5)\n",
            "Requirement already satisfied: catalogue<1.1.0,>=0.0.7 in /usr/local/lib/python3.7/dist-packages (from spacy>=2.2.2->en_core_web_lg==2.2.5) (1.0.0)\n",
            "Requirement already satisfied: srsly<1.1.0,>=1.0.2 in /usr/local/lib/python3.7/dist-packages (from spacy>=2.2.2->en_core_web_lg==2.2.5) (1.0.5)\n",
            "Requirement already satisfied: numpy>=1.15.0 in /usr/local/lib/python3.7/dist-packages (from spacy>=2.2.2->en_core_web_lg==2.2.5) (1.19.5)\n",
            "Requirement already satisfied: requests<3.0.0,>=2.13.0 in /usr/local/lib/python3.7/dist-packages (from spacy>=2.2.2->en_core_web_lg==2.2.5) (2.23.0)\n",
            "Requirement already satisfied: tqdm<5.0.0,>=4.38.0 in /usr/local/lib/python3.7/dist-packages (from spacy>=2.2.2->en_core_web_lg==2.2.5) (4.41.1)\n",
            "Requirement already satisfied: importlib-metadata>=0.20; python_version < \"3.8\" in /usr/local/lib/python3.7/dist-packages (from catalogue<1.1.0,>=0.0.7->spacy>=2.2.2->en_core_web_lg==2.2.5) (4.5.0)\n",
            "Requirement already satisfied: chardet<4,>=3.0.2 in /usr/local/lib/python3.7/dist-packages (from requests<3.0.0,>=2.13.0->spacy>=2.2.2->en_core_web_lg==2.2.5) (3.0.4)\n",
            "Requirement already satisfied: certifi>=2017.4.17 in /usr/local/lib/python3.7/dist-packages (from requests<3.0.0,>=2.13.0->spacy>=2.2.2->en_core_web_lg==2.2.5) (2021.5.30)\n",
            "Requirement already satisfied: urllib3!=1.25.0,!=1.25.1,<1.26,>=1.21.1 in /usr/local/lib/python3.7/dist-packages (from requests<3.0.0,>=2.13.0->spacy>=2.2.2->en_core_web_lg==2.2.5) (1.24.3)\n",
            "Requirement already satisfied: idna<3,>=2.5 in /usr/local/lib/python3.7/dist-packages (from requests<3.0.0,>=2.13.0->spacy>=2.2.2->en_core_web_lg==2.2.5) (2.10)\n",
            "Requirement already satisfied: typing-extensions>=3.6.4; python_version < \"3.8\" in /usr/local/lib/python3.7/dist-packages (from importlib-metadata>=0.20; python_version < \"3.8\"->catalogue<1.1.0,>=0.0.7->spacy>=2.2.2->en_core_web_lg==2.2.5) (3.7.4.3)\n",
            "Requirement already satisfied: zipp>=0.5 in /usr/local/lib/python3.7/dist-packages (from importlib-metadata>=0.20; python_version < \"3.8\"->catalogue<1.1.0,>=0.0.7->spacy>=2.2.2->en_core_web_lg==2.2.5) (3.4.1)\n",
            "Building wheels for collected packages: en-core-web-lg\n",
            "  Building wheel for en-core-web-lg (setup.py) ... \u001b[?25l\u001b[?25hdone\n",
            "  Created wheel for en-core-web-lg: filename=en_core_web_lg-2.2.5-cp37-none-any.whl size=829180945 sha256=2aac91fc1e46097f28acb984867273cdaf650b124b431e939e9c355ed38712ff\n",
            "  Stored in directory: /tmp/pip-ephem-wheel-cache-0ikxtkaf/wheels/2a/c1/a6/fc7a877b1efca9bc6a089d6f506f16d3868408f9ff89f8dbfc\n",
            "Successfully built en-core-web-lg\n",
            "Installing collected packages: en-core-web-lg\n",
            "Successfully installed en-core-web-lg-2.2.5\n",
            "\u001b[38;5;2m✔ Download and installation successful\u001b[0m\n",
            "You can now load the model via spacy.load('en_core_web_lg')\n"
          ],
          "name": "stdout"
        }
      ]
    },
    {
      "cell_type": "markdown",
      "metadata": {
        "id": "MOFfmQHQvdYd"
      },
      "source": [
        "### Additional Reading Reference for Word2Vec:\n",
        "* http://jalammar.github.io/illustrated-word2vec"
      ]
    },
    {
      "cell_type": "markdown",
      "metadata": {
        "id": "NUEvvN5XxprY"
      },
      "source": [
        "### Word2Vec with Spacy:"
      ]
    },
    {
      "cell_type": "code",
      "metadata": {
        "colab": {
          "base_uri": "https://localhost:8080/"
        },
        "id": "xGw3as33yXpK",
        "outputId": "6ee3b447-ee5f-4308-c063-8d4dc54ecb66"
      },
      "source": [
        "!python -m spacy download en\n",
        "# en model has 1 million unique vectors"
      ],
      "execution_count": 6,
      "outputs": [
        {
          "output_type": "stream",
          "text": [
            "Requirement already satisfied: en_core_web_sm==2.2.5 from https://github.com/explosion/spacy-models/releases/download/en_core_web_sm-2.2.5/en_core_web_sm-2.2.5.tar.gz#egg=en_core_web_sm==2.2.5 in /usr/local/lib/python3.7/dist-packages (2.2.5)\n",
            "Requirement already satisfied: spacy>=2.2.2 in /usr/local/lib/python3.7/dist-packages (from en_core_web_sm==2.2.5) (2.2.4)\n",
            "Requirement already satisfied: thinc==7.4.0 in /usr/local/lib/python3.7/dist-packages (from spacy>=2.2.2->en_core_web_sm==2.2.5) (7.4.0)\n",
            "Requirement already satisfied: cymem<2.1.0,>=2.0.2 in /usr/local/lib/python3.7/dist-packages (from spacy>=2.2.2->en_core_web_sm==2.2.5) (2.0.5)\n",
            "Requirement already satisfied: blis<0.5.0,>=0.4.0 in /usr/local/lib/python3.7/dist-packages (from spacy>=2.2.2->en_core_web_sm==2.2.5) (0.4.1)\n",
            "Requirement already satisfied: catalogue<1.1.0,>=0.0.7 in /usr/local/lib/python3.7/dist-packages (from spacy>=2.2.2->en_core_web_sm==2.2.5) (1.0.0)\n",
            "Requirement already satisfied: tqdm<5.0.0,>=4.38.0 in /usr/local/lib/python3.7/dist-packages (from spacy>=2.2.2->en_core_web_sm==2.2.5) (4.41.1)\n",
            "Requirement already satisfied: murmurhash<1.1.0,>=0.28.0 in /usr/local/lib/python3.7/dist-packages (from spacy>=2.2.2->en_core_web_sm==2.2.5) (1.0.5)\n",
            "Requirement already satisfied: setuptools in /usr/local/lib/python3.7/dist-packages (from spacy>=2.2.2->en_core_web_sm==2.2.5) (57.0.0)\n",
            "Requirement already satisfied: requests<3.0.0,>=2.13.0 in /usr/local/lib/python3.7/dist-packages (from spacy>=2.2.2->en_core_web_sm==2.2.5) (2.23.0)\n",
            "Requirement already satisfied: preshed<3.1.0,>=3.0.2 in /usr/local/lib/python3.7/dist-packages (from spacy>=2.2.2->en_core_web_sm==2.2.5) (3.0.5)\n",
            "Requirement already satisfied: numpy>=1.15.0 in /usr/local/lib/python3.7/dist-packages (from spacy>=2.2.2->en_core_web_sm==2.2.5) (1.19.5)\n",
            "Requirement already satisfied: wasabi<1.1.0,>=0.4.0 in /usr/local/lib/python3.7/dist-packages (from spacy>=2.2.2->en_core_web_sm==2.2.5) (0.8.2)\n",
            "Requirement already satisfied: srsly<1.1.0,>=1.0.2 in /usr/local/lib/python3.7/dist-packages (from spacy>=2.2.2->en_core_web_sm==2.2.5) (1.0.5)\n",
            "Requirement already satisfied: plac<1.2.0,>=0.9.6 in /usr/local/lib/python3.7/dist-packages (from spacy>=2.2.2->en_core_web_sm==2.2.5) (1.1.3)\n",
            "Requirement already satisfied: importlib-metadata>=0.20; python_version < \"3.8\" in /usr/local/lib/python3.7/dist-packages (from catalogue<1.1.0,>=0.0.7->spacy>=2.2.2->en_core_web_sm==2.2.5) (4.5.0)\n",
            "Requirement already satisfied: certifi>=2017.4.17 in /usr/local/lib/python3.7/dist-packages (from requests<3.0.0,>=2.13.0->spacy>=2.2.2->en_core_web_sm==2.2.5) (2021.5.30)\n",
            "Requirement already satisfied: urllib3!=1.25.0,!=1.25.1,<1.26,>=1.21.1 in /usr/local/lib/python3.7/dist-packages (from requests<3.0.0,>=2.13.0->spacy>=2.2.2->en_core_web_sm==2.2.5) (1.24.3)\n",
            "Requirement already satisfied: idna<3,>=2.5 in /usr/local/lib/python3.7/dist-packages (from requests<3.0.0,>=2.13.0->spacy>=2.2.2->en_core_web_sm==2.2.5) (2.10)\n",
            "Requirement already satisfied: chardet<4,>=3.0.2 in /usr/local/lib/python3.7/dist-packages (from requests<3.0.0,>=2.13.0->spacy>=2.2.2->en_core_web_sm==2.2.5) (3.0.4)\n",
            "Requirement already satisfied: zipp>=0.5 in /usr/local/lib/python3.7/dist-packages (from importlib-metadata>=0.20; python_version < \"3.8\"->catalogue<1.1.0,>=0.0.7->spacy>=2.2.2->en_core_web_sm==2.2.5) (3.4.1)\n",
            "Requirement already satisfied: typing-extensions>=3.6.4; python_version < \"3.8\" in /usr/local/lib/python3.7/dist-packages (from importlib-metadata>=0.20; python_version < \"3.8\"->catalogue<1.1.0,>=0.0.7->spacy>=2.2.2->en_core_web_sm==2.2.5) (3.7.4.3)\n",
            "\u001b[38;5;2m✔ Download and installation successful\u001b[0m\n",
            "You can now load the model via spacy.load('en_core_web_sm')\n",
            "\u001b[38;5;2m✔ Linking successful\u001b[0m\n",
            "/usr/local/lib/python3.7/dist-packages/en_core_web_sm -->\n",
            "/usr/local/lib/python3.7/dist-packages/spacy/data/en\n",
            "You can now load the model via spacy.load('en')\n"
          ],
          "name": "stdout"
        }
      ]
    },
    {
      "cell_type": "code",
      "metadata": {
        "colab": {
          "base_uri": "https://localhost:8080/"
        },
        "id": "NjxBu58w1kp7",
        "outputId": "634af5cf-885d-4b96-d9dd-e27c53beadf5"
      },
      "source": [
        "import spacy\n",
        "print(spacy.__version__) "
      ],
      "execution_count": 7,
      "outputs": [
        {
          "output_type": "stream",
          "text": [
            "2.2.4\n"
          ],
          "name": "stdout"
        }
      ]
    },
    {
      "cell_type": "code",
      "metadata": {
        "id": "xzclUCwvu6ZF"
      },
      "source": [
        "import en_core_web_lg\n",
        "nlp = en_core_web_lg.load()\n",
        "# en_core_web_lg.load() works fine, but spacy.load(\"en_core_web_lg\") doesn't"
      ],
      "execution_count": 8,
      "outputs": []
    },
    {
      "cell_type": "code",
      "metadata": {
        "colab": {
          "base_uri": "https://localhost:8080/"
        },
        "id": "h2l7Rbt5x2Xj",
        "outputId": "341fcd08-dcbf-432e-99a5-7d4f905c34cf"
      },
      "source": [
        "word = \"april sunflower dog squirrel dljkbkdsjh cat lion\"\n",
        "doc = nlp(word)\n",
        "\n",
        "for token in doc:\n",
        "  print(token.text, token.has_vector, token.vector_norm)"
      ],
      "execution_count": 9,
      "outputs": [
        {
          "output_type": "stream",
          "text": [
            "april True 6.337781\n",
            "sunflower True 6.952784\n",
            "dog True 7.0336733\n",
            "squirrel True 6.4247537\n",
            "dljkbkdsjh False 0.0\n",
            "cat True 6.6808186\n",
            "lion True 6.5120897\n"
          ],
          "name": "stdout"
        }
      ]
    },
    {
      "cell_type": "markdown",
      "metadata": {
        "id": "inlUP7vGzqDB"
      },
      "source": [
        "### Semantic Similarity:"
      ]
    },
    {
      "cell_type": "markdown",
      "metadata": {
        "id": "-isF6nHTzxh0"
      },
      "source": [
        "Checking similarity of 2 objects, predicting similarity is useful for building recommendation systems or duplicate flagging."
      ]
    },
    {
      "cell_type": "code",
      "metadata": {
        "colab": {
          "base_uri": "https://localhost:8080/"
        },
        "id": "wNRh3VBmzQ53",
        "outputId": "b9e5be3e-7e6b-4ee1-cb1d-db372534f0bf"
      },
      "source": [
        "for token in doc:\n",
        "  for token_2 in doc:\n",
        "    print(token.text, \" || \", token_2.text, \" || \",token.similarity(token_2)) "
      ],
      "execution_count": 10,
      "outputs": [
        {
          "output_type": "stream",
          "text": [
            "april  ||  april  ||  1.0\n",
            "april  ||  sunflower  ||  0.10476539\n",
            "april  ||  dog  ||  0.18181707\n",
            "april  ||  squirrel  ||  0.10708296\n",
            "april  ||  dljkbkdsjh  ||  0.0\n",
            "april  ||  cat  ||  0.21493316\n",
            "april  ||  lion  ||  0.2080607\n",
            "sunflower  ||  april  ||  0.10476539\n",
            "sunflower  ||  sunflower  ||  1.0\n",
            "sunflower  ||  dog  ||  0.20046659\n",
            "sunflower  ||  squirrel  ||  0.36690027\n",
            "sunflower  ||  dljkbkdsjh  ||  0.0\n",
            "sunflower  ||  cat  ||  0.20925069\n",
            "sunflower  ||  lion  ||  0.22593246\n",
            "dog  ||  april  ||  0.18181707\n",
            "dog  ||  sunflower  ||  0.20046659\n",
            "dog  ||  dog  ||  1.0\n",
            "dog  ||  squirrel  ||  0.510796\n",
            "dog  ||  dljkbkdsjh  ||  0.0\n",
            "dog  ||  cat  ||  0.80168545\n",
            "dog  ||  lion  ||  0.47424486\n",
            "squirrel  ||  april  ||  0.10708296\n",
            "squirrel  ||  sunflower  ||  0.36690027\n",
            "squirrel  ||  dog  ||  0.510796\n",
            "squirrel  ||  squirrel  ||  1.0\n",
            "squirrel  ||  dljkbkdsjh  ||  0.0\n",
            "squirrel  ||  cat  ||  0.58394605\n",
            "squirrel  ||  lion  ||  0.51045436\n",
            "dljkbkdsjh  ||  april  ||  0.0\n",
            "dljkbkdsjh  ||  sunflower  ||  0.0\n",
            "dljkbkdsjh  ||  dog  ||  0.0\n",
            "dljkbkdsjh  ||  squirrel  ||  0.0\n",
            "dljkbkdsjh  ||  dljkbkdsjh  ||  1.0\n",
            "dljkbkdsjh  ||  cat  ||  0.0\n",
            "dljkbkdsjh  ||  lion  ||  0.0\n",
            "cat  ||  april  ||  0.21493316\n",
            "cat  ||  sunflower  ||  0.20925069\n",
            "cat  ||  dog  ||  0.80168545\n",
            "cat  ||  squirrel  ||  0.58394605\n",
            "cat  ||  dljkbkdsjh  ||  0.0\n",
            "cat  ||  cat  ||  1.0\n",
            "cat  ||  lion  ||  0.5265438\n",
            "lion  ||  april  ||  0.2080607\n",
            "lion  ||  sunflower  ||  0.22593246\n",
            "lion  ||  dog  ||  0.47424486\n",
            "lion  ||  squirrel  ||  0.51045436\n",
            "lion  ||  dljkbkdsjh  ||  0.0\n",
            "lion  ||  cat  ||  0.5265438\n",
            "lion  ||  lion  ||  1.0\n"
          ],
          "name": "stdout"
        },
        {
          "output_type": "stream",
          "text": [
            "/usr/lib/python3.7/runpy.py:193: UserWarning: [W008] Evaluating Token.similarity based on empty vectors.\n",
            "  \"__main__\", mod_spec)\n",
            "/usr/lib/python3.7/runpy.py:193: UserWarning: [W008] Evaluating Token.similarity based on empty vectors.\n",
            "  \"__main__\", mod_spec)\n",
            "/usr/lib/python3.7/runpy.py:193: UserWarning: [W008] Evaluating Token.similarity based on empty vectors.\n",
            "  \"__main__\", mod_spec)\n",
            "/usr/lib/python3.7/runpy.py:193: UserWarning: [W008] Evaluating Token.similarity based on empty vectors.\n",
            "  \"__main__\", mod_spec)\n",
            "/usr/lib/python3.7/runpy.py:193: UserWarning: [W008] Evaluating Token.similarity based on empty vectors.\n",
            "  \"__main__\", mod_spec)\n",
            "/usr/lib/python3.7/runpy.py:193: UserWarning: [W008] Evaluating Token.similarity based on empty vectors.\n",
            "  \"__main__\", mod_spec)\n",
            "/usr/lib/python3.7/runpy.py:193: UserWarning: [W008] Evaluating Token.similarity based on empty vectors.\n",
            "  \"__main__\", mod_spec)\n",
            "/usr/lib/python3.7/runpy.py:193: UserWarning: [W008] Evaluating Token.similarity based on empty vectors.\n",
            "  \"__main__\", mod_spec)\n",
            "/usr/lib/python3.7/runpy.py:193: UserWarning: [W008] Evaluating Token.similarity based on empty vectors.\n",
            "  \"__main__\", mod_spec)\n",
            "/usr/lib/python3.7/runpy.py:193: UserWarning: [W008] Evaluating Token.similarity based on empty vectors.\n",
            "  \"__main__\", mod_spec)\n",
            "/usr/lib/python3.7/runpy.py:193: UserWarning: [W008] Evaluating Token.similarity based on empty vectors.\n",
            "  \"__main__\", mod_spec)\n",
            "/usr/lib/python3.7/runpy.py:193: UserWarning: [W008] Evaluating Token.similarity based on empty vectors.\n",
            "  \"__main__\", mod_spec)\n"
          ],
          "name": "stderr"
        }
      ]
    },
    {
      "cell_type": "code",
      "metadata": {
        "id": "41HzP1hy0Z0E",
        "colab": {
          "base_uri": "https://localhost:8080/"
        },
        "outputId": "03b55b00-6c3e-4233-fc01-cfbc3c158ec7"
      },
      "source": [
        "nlp(u'lion').vector"
      ],
      "execution_count": 11,
      "outputs": [
        {
          "output_type": "execute_result",
          "data": {
            "text/plain": [
              "array([ 1.8963e-01, -4.0309e-01,  3.5350e-01, -4.7907e-01, -4.3311e-01,\n",
              "        2.3857e-01,  2.6962e-01,  6.4332e-02,  3.0767e-01,  1.3712e+00,\n",
              "       -3.7582e-01, -2.2713e-01, -3.5657e-01, -2.5355e-01,  1.7543e-02,\n",
              "        3.3962e-01,  7.4723e-02,  5.1226e-01, -3.9759e-01,  5.1333e-03,\n",
              "       -3.0929e-01,  4.8911e-02, -1.8610e-01, -4.1702e-01, -8.1639e-01,\n",
              "       -1.6908e-01, -2.6246e-01, -1.5983e-02,  1.2479e-01, -3.7276e-02,\n",
              "       -5.7125e-01, -1.6296e-01,  1.2376e-01, -5.5464e-02,  1.3244e-01,\n",
              "        2.7519e-02,  1.2592e-01, -3.2722e-01, -4.9165e-01, -3.5559e-01,\n",
              "       -3.0630e-01,  6.1185e-02, -1.6932e-01, -6.2405e-02,  6.5763e-01,\n",
              "       -2.7925e-01, -3.0450e-03, -2.2400e-02, -2.8015e-01, -2.1975e-01,\n",
              "       -4.3188e-01,  3.9864e-02, -2.2102e-01, -4.2693e-02,  5.2748e-02,\n",
              "        2.8726e-01,  1.2315e-01, -2.8662e-02,  7.8294e-02,  4.6754e-01,\n",
              "       -2.4589e-01, -1.1064e-01,  7.2250e-02, -9.4980e-02, -2.7548e-01,\n",
              "       -5.4097e-01,  1.2823e-01, -8.2408e-02,  3.1035e-01, -6.3394e-02,\n",
              "       -7.3755e-01, -5.4992e-01,  9.9999e-02, -2.0758e-01, -3.9674e-02,\n",
              "        2.0664e-01, -9.7557e-02, -3.7092e-01,  2.7901e-01, -6.2218e-01,\n",
              "       -1.0280e-01,  2.3271e-01,  4.3838e-01,  3.2445e-02, -2.9866e-01,\n",
              "       -7.3611e-02,  7.1594e-01,  1.4241e-01,  2.7770e-01, -3.9892e-01,\n",
              "        3.6656e-02,  1.5759e-01,  8.2014e-02, -5.7343e-01,  3.5457e-01,\n",
              "        2.2491e-01, -6.2699e-01, -8.8106e-02,  2.4361e-01,  3.8533e-01,\n",
              "       -1.4083e-01,  1.7691e-01,  7.0897e-02,  1.7951e-01, -4.5907e-01,\n",
              "       -8.2120e-01, -2.6631e-02,  6.2549e-02,  4.2415e-01, -8.9630e-02,\n",
              "       -2.4654e-01,  1.4156e-01,  4.0187e-01, -4.1232e-01,  8.4516e-02,\n",
              "       -1.0626e-01,  7.3145e-01,  1.9217e-01,  1.4240e-01,  2.8511e-01,\n",
              "       -2.9454e-01, -2.1948e-01,  9.0460e-01, -1.9098e-01, -1.0340e+00,\n",
              "       -1.5754e-01, -1.1964e-01,  4.9888e-01, -1.0624e+00, -3.2820e-01,\n",
              "       -1.1232e-02, -7.9482e-01,  3.7275e-01, -6.8710e-03, -2.5772e-01,\n",
              "       -4.7005e-01, -4.1387e-01, -6.4089e-02, -2.8033e-01, -4.0778e-02,\n",
              "       -2.4866e+00,  6.2494e-03, -1.0210e-02,  1.2752e-01,  3.4965e-01,\n",
              "       -1.2571e-01,  3.1570e-01,  4.1926e-01,  2.0056e-01, -5.5984e-01,\n",
              "       -2.2801e-01,  1.2012e-01, -2.0518e-03, -8.9764e-02, -8.0373e-02,\n",
              "        1.1969e-02, -2.6978e-01,  3.4829e-01,  7.3664e-03, -1.1137e-01,\n",
              "        6.3410e-01,  3.8449e-01, -6.2248e-01,  4.1145e-02,  2.5922e-01,\n",
              "        6.5811e-01, -4.9548e-01, -1.3030e-01, -3.8279e-01,  1.1156e-01,\n",
              "       -4.3085e-01,  3.4473e-01,  2.7109e-02, -2.5108e-01, -2.8011e-01,\n",
              "        2.1662e-01,  3.2660e-01,  5.5895e-02,  7.6077e-02, -5.2480e-02,\n",
              "        4.5928e-02, -2.5266e-01,  5.2845e-01, -1.3145e-01, -1.2453e-01,\n",
              "        4.0556e-01,  3.1877e-01,  2.4415e-02, -2.2620e-01, -6.1960e-01,\n",
              "       -4.0886e-01, -3.5534e-02, -5.5123e-03,  2.3438e-01,  8.7854e-01,\n",
              "       -2.5161e-01,  4.0600e-01, -4.4284e-01,  3.4934e-01, -5.6429e-01,\n",
              "       -2.3676e-01,  6.2199e-01, -2.8175e-01,  4.2024e-01,  1.0043e-01,\n",
              "       -1.4720e-01,  4.9593e-01, -3.5850e-01, -1.3998e-01, -2.7494e-01,\n",
              "        2.3827e-01,  5.7268e-01,  7.9025e-02,  1.7872e-02, -2.1829e-01,\n",
              "        5.5050e-02, -5.4200e-01,  1.6788e-01,  3.9065e-01,  3.0209e-01,\n",
              "        2.3040e-01, -3.9351e-02, -2.1078e-01, -2.7224e-01,  1.6907e-01,\n",
              "        5.4819e-01,  9.4888e-02,  7.9798e-01, -6.6158e-02,  1.9844e-01,\n",
              "        2.0307e-01,  4.4808e-02, -1.0240e-01, -6.9909e-02, -3.6756e-02,\n",
              "        9.5159e-02, -2.7830e-01, -1.0597e-01, -1.6276e-01, -1.8211e-01,\n",
              "       -3.1897e-01, -2.1633e-01,  1.4994e-01, -7.2057e-02,  2.2264e-01,\n",
              "       -4.5551e-01,  3.0341e-01,  1.8431e-01,  2.1681e-01, -3.1940e-01,\n",
              "        2.6426e-01,  5.8106e-01,  5.4635e-02,  6.3238e-01,  4.3169e-01,\n",
              "        9.0343e-02,  1.9494e-01,  3.5483e-01, -2.0706e-02, -7.3117e-01,\n",
              "        1.2941e-01,  1.7418e-01, -1.5065e-01,  5.3355e-02,  4.4794e-02,\n",
              "       -1.6600e-01,  2.2007e-01, -5.3970e-01, -2.4968e-01, -2.6464e-01,\n",
              "       -5.5515e-01,  5.8242e-01,  2.2295e-01,  2.4433e-01,  4.5275e-01,\n",
              "        3.4693e-01,  1.2255e-01, -3.9059e-02, -3.2749e-01, -2.7891e-01,\n",
              "        1.3766e-01,  3.8392e-01,  1.0543e-03, -1.0242e-02,  4.9205e-01,\n",
              "       -1.7922e-01,  4.1215e-02,  1.3547e-01, -2.0598e-01, -2.3194e-01,\n",
              "       -7.7701e-01, -3.8237e-01, -7.6383e-01,  1.9418e-01, -1.5441e-01,\n",
              "        8.9740e-01,  3.0626e-01,  4.0376e-01,  2.1738e-01, -3.8050e-01],\n",
              "      dtype=float32)"
            ]
          },
          "metadata": {
            "tags": []
          },
          "execution_count": 11
        }
      ]
    },
    {
      "cell_type": "code",
      "metadata": {
        "colab": {
          "base_uri": "https://localhost:8080/"
        },
        "id": "6bqzHlwBbai7",
        "outputId": "5bf20641-ed48-4d8d-a267-f35bbd4c416f"
      },
      "source": [
        "nlp(u'He played golf everyday').vector"
      ],
      "execution_count": 12,
      "outputs": [
        {
          "output_type": "execute_result",
          "data": {
            "text/plain": [
              "array([ 2.02082753e-01,  4.68405485e-01,  7.37475008e-02, -5.02467036e-01,\n",
              "        2.44117498e-01, -6.61224872e-03, -2.89100036e-02, -1.61620006e-01,\n",
              "        1.78752497e-01,  2.68792486e+00, -2.62670010e-01,  1.99503750e-01,\n",
              "       -8.38270038e-02, -2.01949961e-02, -5.87012470e-02,  5.50391600e-02,\n",
              "       -8.19940269e-02,  4.25404489e-01, -1.34705044e-02,  1.43977497e-02,\n",
              "       -1.77124977e-01, -1.59978494e-01, -1.67742502e-02,  1.47979259e-01,\n",
              "        2.76260227e-01,  1.60592496e-01, -5.04884943e-02,  2.55150050e-02,\n",
              "       -1.84228748e-01,  5.54365069e-02, -1.94769770e-01, -2.33547240e-01,\n",
              "       -1.92074999e-01, -7.40007460e-02, -6.65707514e-02, -1.51982516e-01,\n",
              "        1.67290747e-01, -1.58395261e-01,  7.81314000e-02,  1.37117505e-01,\n",
              "       -3.92150059e-02,  5.12609929e-02,  1.56347483e-01,  7.41650015e-02,\n",
              "       -1.92274988e-01,  5.26870005e-02, -2.57863104e-01,  1.07222505e-01,\n",
              "        1.28952503e-01,  1.26219422e-01, -2.00953990e-01,  2.70781256e-02,\n",
              "        9.56954956e-02,  6.32349998e-02,  4.69929986e-02,  1.80000067e-03,\n",
              "        8.02992582e-02,  1.86900005e-01,  2.98317522e-01, -1.79877490e-01,\n",
              "       -2.48689249e-01,  2.25075483e-01, -7.39299953e-02,  8.66841376e-02,\n",
              "        6.30866513e-02, -9.75750387e-03,  2.85977498e-02,  3.26839000e-01,\n",
              "        7.53360018e-02, -2.94375047e-02,  3.88349965e-02, -5.30349985e-02,\n",
              "        2.68543512e-01, -2.78812516e-02, -3.43314976e-01,  1.55208752e-01,\n",
              "        1.47958741e-01,  4.36990708e-02, -1.48489997e-01,  1.28077507e-01,\n",
              "        9.28422511e-02, -8.39127451e-02, -1.59024984e-01, -5.77685013e-02,\n",
              "       -2.36171503e-02,  7.92824998e-02, -1.77055001e-02,  3.17542493e-01,\n",
              "        6.14477545e-02,  3.63320000e-02, -1.98274963e-02,  3.94024998e-02,\n",
              "       -4.06142473e-01, -8.25825147e-03,  2.79690027e-01, -4.23772454e-01,\n",
              "        4.93135512e-01,  1.43079996e-01, -9.98300090e-02, -1.73472747e-01,\n",
              "       -2.34982252e-01,  7.32442513e-02, -1.34838998e-01,  1.88617513e-01,\n",
              "       -1.42404988e-01, -5.79975009e-01,  1.84225500e-01,  3.75737473e-02,\n",
              "       -5.50319999e-02, -1.56482607e-02,  4.03175026e-01, -2.23987997e-01,\n",
              "       -2.20346510e-01,  6.71375021e-02,  8.02699998e-02, -7.56460056e-02,\n",
              "        4.53002453e-02,  2.64970008e-02, -7.05360100e-02, -1.51897490e-01,\n",
              "        3.66317749e-01,  2.76752487e-02, -1.62387505e-01,  5.61314449e-03,\n",
              "        1.95873752e-01, -9.18979943e-02, -2.95662493e-01, -5.86657412e-02,\n",
              "        7.74890035e-02, -1.15263999e-01,  1.89036012e-01, -6.32499978e-02,\n",
              "       -7.05175027e-02, -1.68604001e-01, -2.22000107e-02, -6.76999986e-02,\n",
              "        1.97120756e-01, -5.18264994e-02,  9.48025063e-02, -2.05250084e-03,\n",
              "       -1.90532506e+00,  1.75542496e-02,  2.69387513e-01,  1.41210005e-01,\n",
              "       -8.26947540e-02,  1.59486502e-01,  1.11785077e-01, -4.98322323e-02,\n",
              "        7.57775083e-03, -1.79907754e-01, -1.37871504e-01,  3.97699997e-02,\n",
              "       -1.78547502e-02,  2.86817495e-02, -1.63741007e-01, -5.01047522e-02,\n",
              "       -4.93172556e-02, -1.62662506e-01, -1.13731503e-01, -1.83608085e-01,\n",
              "        1.04006752e-01, -6.81657568e-02,  1.61592484e-01, -2.04916507e-01,\n",
              "        2.41357759e-01, -1.36132509e-01, -8.38157535e-02, -7.50800073e-02,\n",
              "        2.82404982e-02, -1.33505017e-02, -2.61507511e-01,  5.78010008e-02,\n",
              "       -5.57505041e-02, -2.44232453e-02, -1.82132736e-01, -1.64957523e-01,\n",
              "       -1.19847998e-01, -5.10795005e-02, -1.16257519e-02, -1.42502278e-01,\n",
              "       -2.41992250e-01, -9.92746949e-02, -1.64936006e-01,  1.14886001e-01,\n",
              "       -1.80365264e-01, -4.39995043e-02,  8.93750042e-02, -6.89174980e-03,\n",
              "        2.09799260e-01,  7.13484585e-02,  2.75045000e-02,  4.06299904e-02,\n",
              "        8.40495005e-02, -2.26775035e-02, -7.66262561e-02,  4.48799990e-02,\n",
              "       -4.40198481e-02, -3.98650020e-02, -1.30783498e-01,  3.81202489e-01,\n",
              "        1.77737504e-01,  6.05697483e-02,  5.40942475e-02,  1.01051003e-01,\n",
              "       -2.21055239e-01, -6.61287457e-02,  1.34883240e-01, -1.33057520e-01,\n",
              "        1.78168252e-01, -1.69256255e-01, -1.93026751e-01, -3.14600021e-02,\n",
              "        1.53524503e-01, -1.58542514e-01,  1.10882491e-01,  1.98863506e-01,\n",
              "        3.50477517e-01, -2.04363495e-01, -3.34774315e-01, -4.76852506e-02,\n",
              "        1.19470000e-01, -7.21240044e-02, -1.35744944e-01, -3.97122502e-02,\n",
              "       -2.46622473e-01,  1.36153504e-01,  4.74537462e-02,  2.92231739e-01,\n",
              "        3.69102985e-01,  4.33462977e-01, -1.03042990e-01,  8.64292458e-02,\n",
              "        1.49339750e-01, -1.16125003e-01, -2.55352497e-01,  1.38080493e-01,\n",
              "        9.70524177e-02,  5.61942458e-02, -2.47689992e-01,  3.50804001e-01,\n",
              "       -1.87649745e-02,  1.40702501e-01, -2.14168996e-01,  2.54196495e-01,\n",
              "       -1.47549987e-01,  1.99450001e-01, -7.80244917e-02, -1.37412436e-02,\n",
              "       -2.05964983e-01,  1.09467499e-01,  2.13173002e-01, -2.03681007e-01,\n",
              "        1.38217255e-01,  1.28512550e-03,  1.78435266e-01, -4.40925062e-02,\n",
              "        1.14338420e-01,  1.02329247e-01, -3.37074995e-02,  8.49527493e-02,\n",
              "        3.36484969e-01,  2.63005018e-01, -1.54991239e-01, -3.11583519e-01,\n",
              "        1.02300085e-02,  3.60092195e-03, -4.40950006e-01,  7.93325007e-02,\n",
              "       -5.62674850e-02,  7.55000040e-02, -1.86387748e-01, -1.30269498e-01,\n",
              "       -4.15509567e-02,  6.17325753e-02, -2.43590504e-01,  3.28507483e-01,\n",
              "        1.42250005e-02, -9.51635987e-02, -2.21259236e-01,  4.97517511e-02,\n",
              "       -1.14838079e-01,  1.81529999e-01, -5.44325151e-02, -1.30877003e-01,\n",
              "       -9.46997702e-02, -1.86091736e-01,  1.77667499e-01, -2.16277510e-01,\n",
              "        6.20662570e-02,  2.95834988e-02,  4.32705060e-02, -1.94088176e-01,\n",
              "       -8.97850841e-03, -5.59730083e-02,  2.21260518e-01,  8.22212398e-02,\n",
              "        1.63664490e-01, -6.56012520e-02,  2.04569995e-01,  3.31306979e-02],\n",
              "      dtype=float32)"
            ]
          },
          "metadata": {
            "tags": []
          },
          "execution_count": 12
        }
      ]
    },
    {
      "cell_type": "code",
      "metadata": {
        "colab": {
          "base_uri": "https://localhost:8080/"
        },
        "id": "w7VZCWvcbmU3",
        "outputId": "e504c07f-af2a-44d7-d6c0-b4ecc2e67c92"
      },
      "source": [
        "nlp(u'He played golf everyday').vector.shape\n",
        "# 300 dimensions for the vector for this document"
      ],
      "execution_count": 13,
      "outputs": [
        {
          "output_type": "execute_result",
          "data": {
            "text/plain": [
              "(300,)"
            ]
          },
          "metadata": {
            "tags": []
          },
          "execution_count": 13
        }
      ]
    },
    {
      "cell_type": "code",
      "metadata": {
        "colab": {
          "base_uri": "https://localhost:8080/"
        },
        "id": "hJJiACZabpUE",
        "outputId": "f5ff2c80-82f9-467d-d666-8e98dc2a6447"
      },
      "source": [
        "nlp(u'lion').vector.shape"
      ],
      "execution_count": 14,
      "outputs": [
        {
          "output_type": "execute_result",
          "data": {
            "text/plain": [
              "(300,)"
            ]
          },
          "metadata": {
            "tags": []
          },
          "execution_count": 14
        }
      ]
    },
    {
      "cell_type": "code",
      "metadata": {
        "colab": {
          "base_uri": "https://localhost:8080/"
        },
        "id": "EQfjaBAXbtMX",
        "outputId": "8409f376-3764-439c-8f6a-9e69167123b7"
      },
      "source": [
        "nlp.vocab.vectors.shape"
      ],
      "execution_count": 16,
      "outputs": [
        {
          "output_type": "execute_result",
          "data": {
            "text/plain": [
              "(684831, 300)"
            ]
          },
          "metadata": {
            "tags": []
          },
          "execution_count": 16
        }
      ]
    },
    {
      "cell_type": "code",
      "metadata": {
        "colab": {
          "base_uri": "https://localhost:8080/"
        },
        "id": "i-cKXMRZcbDD",
        "outputId": "4a6dc11a-6400-46b7-af9d-ca6ea602f57a"
      },
      "source": [
        "tokens = nlp(\"Dog Cat Souparna\")\n",
        "\n",
        "for token in tokens:\n",
        "  print(token.text, \" || \", token.has_vector, \" || \",token.is_oov, \" || \",token.vector_norm) "
      ],
      "execution_count": 17,
      "outputs": [
        {
          "output_type": "stream",
          "text": [
            "Dog  ||  True  ||  False  ||  7.0336733\n",
            "Cat  ||  True  ||  False  ||  6.6808186\n",
            "Souparna  ||  False  ||  True  ||  0.0\n"
          ],
          "name": "stdout"
        }
      ]
    },
    {
      "cell_type": "markdown",
      "metadata": {
        "id": "CctR1VDSda3G"
      },
      "source": [
        "### Cosine Similarity:"
      ]
    },
    {
      "cell_type": "code",
      "metadata": {
        "id": "f_SC0kDodAXc"
      },
      "source": [
        "from scipy import spatial\n",
        "\n",
        "cosine_sim = lambda vec1, vec2: 1 - spatial.distance.cosine(vec1, vec2)"
      ],
      "execution_count": 18,
      "outputs": []
    },
    {
      "cell_type": "code",
      "metadata": {
        "id": "JCuTaa0NdpWx"
      },
      "source": [
        "king = nlp.vocab[\"king\"].vector\n",
        "man = nlp.vocab[\"man\"].vector\n",
        "woman = nlp.vocab[\"woman\"].vector\n",
        "# king - man + woman ==> queen/princess..."
      ],
      "execution_count": 19,
      "outputs": []
    },
    {
      "cell_type": "code",
      "metadata": {
        "id": "39gEtrxfeD8P"
      },
      "source": [
        "new_vec = king - man + woman\n",
        "computed_sim = []\n",
        "\n",
        "for word in nlp.vocab:\n",
        "  if word.has_vector:\n",
        "    if word.is_lower:\n",
        "      if word.is_alpha:\n",
        "        similarity = cosine_sim(new_vec, word.vector)\n",
        "        computed_sim.append((word, similarity))"
      ],
      "execution_count": 22,
      "outputs": []
    },
    {
      "cell_type": "code",
      "metadata": {
        "colab": {
          "base_uri": "https://localhost:8080/"
        },
        "id": "Jjiqw9i8esFL",
        "outputId": "1c5f4778-7701-4a1d-d652-49614997ac19"
      },
      "source": [
        "computed_sim = sorted(computed_sim, key=lambda item: -item[1])\n",
        "[t[0].text for t in computed_sim[:10]]"
      ],
      "execution_count": 23,
      "outputs": [
        {
          "output_type": "execute_result",
          "data": {
            "text/plain": [
              "['king',\n",
              " 'queen',\n",
              " 'prince',\n",
              " 'kings',\n",
              " 'princess',\n",
              " 'royal',\n",
              " 'throne',\n",
              " 'queens',\n",
              " 'monarch',\n",
              " 'kingdom']"
            ]
          },
          "metadata": {
            "tags": []
          },
          "execution_count": 23
        }
      ]
    },
    {
      "cell_type": "code",
      "metadata": {
        "id": "T_8MpjmwfPER"
      },
      "source": [
        ""
      ],
      "execution_count": null,
      "outputs": []
    }
  ]
}